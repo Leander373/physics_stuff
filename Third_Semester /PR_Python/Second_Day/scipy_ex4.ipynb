{
 "cells": [
  {
   "cell_type": "code",
   "execution_count": 2,
   "metadata": {},
   "outputs": [
    {
     "name": "stdout",
     "output_type": "stream",
     "text": [
      " message: \n",
      "          Optimization terminated successfully;\n",
      "          The returned value satisfies the termination criteria\n",
      "          (using xtol = 1.48e-08 )\n",
      " success: True\n",
      "     fun: -163.15459407646853\n",
      "       x: 0.7853981613054711\n",
      "     nit: 8\n",
      "    nfev: 11\n",
      "The angle is 44.99999988013854\n"
     ]
    }
   ],
   "source": [
    "import numpy as np\n",
    "from scipy.optimize import minimize_scalar\n",
    "import scipy as sp\n",
    "\n",
    "v = 40\n",
    "\n",
    "def R(x):\n",
    "    return -(v**2 / sp.constants.g) * np.sin(2 * x)\n",
    "\n",
    "result = minimize_scalar(R)\n",
    "print(result)\n",
    "deg = (result.x / (2 * np.pi)) * 360\n",
    "print(f\"The angle is {deg}\")\n",
    "\n",
    "# Result = 44.999999 which is very near to 45 (the theoretical optimum)"
   ]
  },
  {
   "cell_type": "code",
   "execution_count": null,
   "metadata": {},
   "outputs": [],
   "source": []
  }
 ],
 "metadata": {
  "kernelspec": {
   "display_name": "Python 3",
   "language": "python",
   "name": "python3"
  },
  "language_info": {
   "codemirror_mode": {
    "name": "ipython",
    "version": 3
   },
   "file_extension": ".py",
   "mimetype": "text/x-python",
   "name": "python",
   "nbconvert_exporter": "python",
   "pygments_lexer": "ipython3",
   "version": "3.12.3"
  }
 },
 "nbformat": 4,
 "nbformat_minor": 2
}
