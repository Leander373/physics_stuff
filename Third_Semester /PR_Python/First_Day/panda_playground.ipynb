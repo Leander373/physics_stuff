{
 "cells": [
  {
   "cell_type": "code",
   "execution_count": 4,
   "metadata": {},
   "outputs": [
    {
     "name": "stdout",
     "output_type": "stream",
     "text": [
      "      wavenumber     intensity\n",
      "0            0.0  5.357586e-34\n",
      "1            1.0  7.694952e-34\n",
      "2            2.0  1.102756e-33\n",
      "3            3.0  1.576847e-33\n",
      "4            4.0  2.249761e-33\n",
      "...          ...           ...\n",
      "7996      7996.0  0.000000e+00\n",
      "7997      7997.0  0.000000e+00\n",
      "7998      7998.0  0.000000e+00\n",
      "7999      7999.0  0.000000e+00\n",
      "8000      8000.0  0.000000e+00\n",
      "\n",
      "[8001 rows x 2 columns]\n"
     ]
    }
   ],
   "source": [
    "import pandas as pd\n",
    "\n",
    "df = pd.read_csv(\"spectrum.csv\", sep=r\"\\s+\")\n",
    "print(df)"
   ]
  },
  {
   "cell_type": "code",
   "execution_count": 25,
   "metadata": {},
   "outputs": [
    {
     "name": "stdout",
     "output_type": "stream",
     "text": [
      "      wavenumber     intensity\n",
      "0            0.0  5.357586e-34\n",
      "1            1.0  7.694952e-34\n",
      "2            2.0  1.102756e-33\n",
      "3            3.0  1.576847e-33\n",
      "4            4.0  2.249761e-33\n",
      "...          ...           ...\n",
      "7996      7996.0  0.000000e+00\n",
      "7997      7997.0  0.000000e+00\n",
      "7998      7998.0  0.000000e+00\n",
      "7999      7999.0  0.000000e+00\n",
      "8000      8000.0  0.000000e+00\n",
      "\n",
      "[8001 rows x 2 columns]\n"
     ]
    }
   ],
   "source": [
    "import pandas as pd\n",
    "\n",
    "df2 = pd.read_csv(\"spectrum_no_header.csv\", sep=r\"\\s+\", header=None, names=[\"wavenumber\", \"intensity\"])\n",
    "\n",
    "print(df2)\n",
    "\n"
   ]
  },
  {
   "cell_type": "code",
   "execution_count": 21,
   "metadata": {},
   "outputs": [
    {
     "name": "stdout",
     "output_type": "stream",
     "text": [
      "      wavelength     intensity\n",
      "0            0.0  5.357586e-34\n",
      "1            1.0  7.694952e-34\n",
      "2            2.0  1.102756e-33\n",
      "3            3.0  1.576847e-33\n",
      "4            4.0  2.249761e-33\n",
      "...          ...           ...\n",
      "7996      7996.0  0.000000e+00\n",
      "7997      7997.0  0.000000e+00\n",
      "7998      7998.0  0.000000e+00\n",
      "7999      7999.0  0.000000e+00\n",
      "8000      8000.0  0.000000e+00\n",
      "\n",
      "[8001 rows x 2 columns]\n"
     ]
    }
   ],
   "source": [
    "import pandas as pd \n",
    "\n",
    "df5 = pd.read_csv(\"spectrum_no_header_three_columns.csv\", sep=r\"\\s+\", names=[\"wavelength\", \"intensity\"], usecols=[\"wavelength\", \"intensity\"])\n",
    "\n",
    "print(df5)"
   ]
  }
 ],
 "metadata": {
  "kernelspec": {
   "display_name": "Python 3",
   "language": "python",
   "name": "python3"
  },
  "language_info": {
   "codemirror_mode": {
    "name": "ipython",
    "version": 3
   },
   "file_extension": ".py",
   "mimetype": "text/x-python",
   "name": "python",
   "nbconvert_exporter": "python",
   "pygments_lexer": "ipython3",
   "version": "3.12.3"
  }
 },
 "nbformat": 4,
 "nbformat_minor": 2
}
