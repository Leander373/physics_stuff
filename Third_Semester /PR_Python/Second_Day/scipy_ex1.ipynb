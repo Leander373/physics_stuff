{
 "cells": [
  {
   "cell_type": "code",
   "execution_count": 9,
   "metadata": {},
   "outputs": [
    {
     "name": "stdout",
     "output_type": "stream",
     "text": [
      "[ 0.35355339 -0.61237244]\n",
      "Actual gradient is : [ 0.35355339 -0.61237244]\n"
     ]
    }
   ],
   "source": [
    "import numpy as np\n",
    "from scipy.optimize import approx_fprime\n",
    "\n",
    "f = lambda x: np.sin(x[0]) * np.cos(x[1])\n",
    "\n",
    "c = np.array([(np.pi / 4), (np.pi / 3)])\n",
    "\n",
    "grad = approx_fprime(c, f)\n",
    "\n",
    "print(grad)\n",
    "\n",
    "\n",
    "# Compute actual gradient\n",
    "actual = np.array([(np.cos(np.pi / 3) * np.cos(np.pi / 4)), (-np.sin(np.pi / 4) * np.sin(np.pi / 3))])\n",
    "\n",
    "print(f\"Actual gradient is : {actual}\")"
   ]
  }
 ],
 "metadata": {
  "kernelspec": {
   "display_name": "Python 3",
   "language": "python",
   "name": "python3"
  },
  "language_info": {
   "codemirror_mode": {
    "name": "ipython",
    "version": 3
   },
   "file_extension": ".py",
   "mimetype": "text/x-python",
   "name": "python",
   "nbconvert_exporter": "python",
   "pygments_lexer": "ipython3",
   "version": "3.12.3"
  }
 },
 "nbformat": 4,
 "nbformat_minor": 2
}
